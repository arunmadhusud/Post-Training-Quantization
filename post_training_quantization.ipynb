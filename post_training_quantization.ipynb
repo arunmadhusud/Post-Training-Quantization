{
 "cells": [
  {
   "cell_type": "markdown",
   "metadata": {},
   "source": [
    "# Import the necessary libraries"
   ]
  },
  {
   "cell_type": "code",
   "execution_count": 95,
   "metadata": {},
   "outputs": [],
   "source": [
    "import torch\n",
    "import torchvision.datasets as datasets \n",
    "import torchvision.transforms as transforms\n",
    "import torch.nn as nn\n",
    "import matplotlib.pyplot as plt\n",
    "from tqdm import tqdm\n",
    "from pathlib import Path\n",
    "import os"
   ]
  },
  {
   "cell_type": "markdown",
   "metadata": {},
   "source": [
    "# Load the MNIST dataset"
   ]
  },
  {
   "cell_type": "code",
   "execution_count": 96,
   "metadata": {},
   "outputs": [],
   "source": [
    "# Make torch deterministic\n",
    "_ = torch.manual_seed(0)"
   ]
  },
  {
   "cell_type": "code",
   "execution_count": 97,
   "metadata": {},
   "outputs": [],
   "source": [
    "transform = transforms.Compose([transforms.ToTensor(), transforms.Normalize((0.1307,), (0.3081,))])\n",
    "\n",
    "# Load the MNIST dataset\n",
    "mnist_trainset = datasets.MNIST(root='./data', train=True, download=True, transform=transform)\n",
    "# Create a dataloader for the training\n",
    "train_loader = torch.utils.data.DataLoader(mnist_trainset, batch_size=10, shuffle=True)\n",
    "\n",
    "# Load the MNIST test set\n",
    "mnist_testset = datasets.MNIST(root='./data', train=False, download=True, transform=transform)\n",
    "test_loader = torch.utils.data.DataLoader(mnist_testset, batch_size=10, shuffle=True)\n",
    "\n",
    "# Define the device\n",
    "device = \"cpu\""
   ]
  },
  {
   "cell_type": "markdown",
   "metadata": {},
   "source": [
    "# Model Preparation"
   ]
  },
  {
   "cell_type": "code",
   "execution_count": 98,
   "metadata": {},
   "outputs": [],
   "source": [
    "class VerySimpleNet(nn.Module):\n",
    "    def __init__(self, hidden_size_1=100, hidden_size_2=100):\n",
    "        super(VerySimpleNet,self).__init__()\n",
    "        self.linear1 = nn.Linear(28*28, hidden_size_1) \n",
    "        self.linear2 = nn.Linear(hidden_size_1, hidden_size_2) \n",
    "        self.linear3 = nn.Linear(hidden_size_2, 10)\n",
    "        self.relu = nn.ReLU()\n",
    "\n",
    "    def forward(self, img):\n",
    "        x = img.view(-1, 28*28)\n",
    "        x = self.relu(self.linear1(x))\n",
    "        x = self.relu(self.linear2(x))\n",
    "        x = self.linear3(x)\n",
    "        return x"
   ]
  },
  {
   "cell_type": "code",
   "execution_count": null,
   "metadata": {},
   "outputs": [],
   "source": [
    "net = VerySimpleNet().to(device)\n",
    "net"
   ]
  },
  {
   "cell_type": "markdown",
   "metadata": {},
   "source": [
    "## Train the model"
   ]
  },
  {
   "cell_type": "code",
   "execution_count": null,
   "metadata": {},
   "outputs": [],
   "source": [
    "def train(train_loader, net, epochs=5, total_iterations_limit=None):\n",
    "    cross_el = nn.CrossEntropyLoss()\n",
    "    optimizer = torch.optim.Adam(net.parameters(), lr=0.001)\n",
    "\n",
    "    total_iterations = 0\n",
    "\n",
    "    for epoch in range(epochs):\n",
    "        net.train()\n",
    "\n",
    "        loss_sum = 0\n",
    "        num_iterations = 0\n",
    "\n",
    "        data_iterator = tqdm(train_loader, desc=f'Epoch {epoch+1}')\n",
    "        if total_iterations_limit is not None:\n",
    "            data_iterator.total = total_iterations_limit\n",
    "        for data in data_iterator:\n",
    "            num_iterations += 1\n",
    "            total_iterations += 1\n",
    "            x, y = data\n",
    "            x = x.to(device)\n",
    "            y = y.to(device)\n",
    "            optimizer.zero_grad()\n",
    "            output = net(x.view(-1, 28*28))\n",
    "            loss = cross_el(output, y)\n",
    "            loss_sum += loss.item()\n",
    "            avg_loss = loss_sum / num_iterations\n",
    "            data_iterator.set_postfix(loss=avg_loss)\n",
    "            loss.backward()\n",
    "            optimizer.step()\n",
    "\n",
    "            if total_iterations_limit is not None and total_iterations >= total_iterations_limit:\n",
    "                return\n",
    "            \n",
    "def print_size_of_model(model):\n",
    "    torch.save(model.state_dict(), \"temp_delme.p\")\n",
    "    print('Size (KB):', os.path.getsize(\"temp_delme.p\")/1e3)\n",
    "    os.remove('temp_delme.p')\n",
    "\n",
    "MODEL_FILENAME = 'simplenet_ptq.pt'\n",
    "\n",
    "if Path(MODEL_FILENAME).exists():\n",
    "    net.load_state_dict(torch.load(MODEL_FILENAME))\n",
    "    print('Loaded model from disk')\n",
    "else:\n",
    "    train(train_loader, net, epochs=1)\n",
    "    # Save the model to disk\n",
    "    torch.save(net.state_dict(), MODEL_FILENAME)"
   ]
  },
  {
   "cell_type": "markdown",
   "metadata": {},
   "source": [
    "## Define the testing loop"
   ]
  },
  {
   "cell_type": "code",
   "execution_count": 101,
   "metadata": {},
   "outputs": [],
   "source": [
    "def test(model: nn.Module, total_iterations: int = None):\n",
    "    correct = 0\n",
    "    total = 0\n",
    "\n",
    "    iterations = 0\n",
    "\n",
    "    model.eval()\n",
    "\n",
    "    with torch.no_grad():\n",
    "        for data in tqdm(test_loader, desc='Testing'):\n",
    "            x, y = data\n",
    "            x = x.to(device)\n",
    "            y = y.to(device)\n",
    "            output = model(x.view(-1, 784))\n",
    "            for idx, i in enumerate(output):\n",
    "                if torch.argmax(i) == y[idx]:\n",
    "                    correct +=1\n",
    "                total +=1\n",
    "            iterations += 1\n",
    "            if total_iterations is not None and iterations >= total_iterations:\n",
    "                break\n",
    "    print(f'Accuracy: {round(correct/total, 3)}')"
   ]
  },
  {
   "cell_type": "code",
   "execution_count": null,
   "metadata": {},
   "outputs": [],
   "source": [
    "print('Size of the model before quantization')\n",
    "print_size_of_model(net)"
   ]
  },
  {
   "cell_type": "code",
   "execution_count": null,
   "metadata": {},
   "outputs": [],
   "source": [
    "print(f'Accuracy of the model before quantization: ')\n",
    "test(net)"
   ]
  },
  {
   "cell_type": "code",
   "execution_count": null,
   "metadata": {},
   "outputs": [],
   "source": [
    "test_sample = test_loader.dataset[0]\n",
    "test_sample_img = test_sample[0].to(device)\n",
    "test_sample_label = test_sample[1]\n",
    "\n",
    "print('Test sample label:', test_sample_label)  # Print actual label\n",
    "print('Test sample image shape:', test_sample_img.shape)  # Print image shape"
   ]
  },
  {
   "cell_type": "markdown",
   "metadata": {},
   "source": [
    "## Print weights and size of the model before quantization"
   ]
  },
  {
   "cell_type": "code",
   "execution_count": null,
   "metadata": {},
   "outputs": [],
   "source": [
    "# Print the weights matrix of the model before quantization\n",
    "print('Weights before quantization')\n",
    "print(net.linear1.weight)\n",
    "print(net.linear1.weight.dtype)\n",
    "print(net.linear1.weight.shape)\n",
    "print(net.linear1.bias)"
   ]
  },
  {
   "cell_type": "markdown",
   "metadata": {},
   "source": [
    "# Static Quantization w/o Layer Fusion\n"
   ]
  },
  {
   "cell_type": "markdown",
   "metadata": {},
   "source": [
    "## Insert min-max observers in the model"
   ]
  },
  {
   "cell_type": "code",
   "execution_count": 106,
   "metadata": {},
   "outputs": [],
   "source": [
    "class QuantizedVerySimpleNet(nn.Module):\n",
    "    def __init__(self, hidden_size_1=100, hidden_size_2=100):\n",
    "        super(QuantizedVerySimpleNet,self).__init__()\n",
    "        self.quant = torch.quantization.QuantStub()\n",
    "        self.linear1 = nn.Linear(28*28, hidden_size_1) \n",
    "        self.linear2 = nn.Linear(hidden_size_1, hidden_size_2) \n",
    "        self.linear3 = nn.Linear(hidden_size_2, 10)\n",
    "        self.relu = nn.ReLU()\n",
    "        self.dequant = torch.quantization.DeQuantStub()\n",
    "\n",
    "    def forward(self, img):\n",
    "        x = img.view(-1, 28*28)\n",
    "        x = self.quant(x)\n",
    "        x = self.relu(self.linear1(x))\n",
    "        x = self.relu(self.linear2(x))\n",
    "        x = self.linear3(x)\n",
    "        x = self.dequant(x)\n",
    "        return x"
   ]
  },
  {
   "cell_type": "code",
   "execution_count": null,
   "metadata": {},
   "outputs": [],
   "source": [
    "if torch.backends.quantized.engine == \"x86\":\n",
    "    print(\"PyTorch is using the x86 quantization backend\")\n",
    "else:\n",
    "    print(\"PyTorch is not using the x86 quantization backend\")"
   ]
  },
  {
   "cell_type": "code",
   "execution_count": null,
   "metadata": {},
   "outputs": [],
   "source": [
    "net_quantized = QuantizedVerySimpleNet().to(device)\n",
    "net_quantized.load_state_dict(net.state_dict())\n",
    "net_quantized.eval()"
   ]
  },
  {
   "cell_type": "code",
   "execution_count": null,
   "metadata": {},
   "outputs": [],
   "source": [
    "net_quantized = QuantizedVerySimpleNet().to(device)\n",
    "# Copy weights from unquantized model\n",
    "net_quantized.load_state_dict(net.state_dict())\n",
    "net_quantized.eval()"
   ]
  },
  {
   "cell_type": "markdown",
   "metadata": {},
   "source": [
    "I have used default configurations for the observers and quantizers. You can also customize the configurations as per your requirements using the `qconfig` parameter. Refer to the [documentation](https://pytorch.org/docs/stable/generated/torch.ao.quantization.qconfig.QConfig.html) for more details.\n",
    "\n",
    "The pytorch defualt configurations for an x86 CPU are as follows:\n",
    "* Weight observer: MinMaxObserver\n",
    "* Activation observer: MinMaxObserver\n",
    "* Weight quantizer: SymmetricQuantizer (qint8, range -127 to 127)\n",
    "* Activation(or input) quantizer: AsymmetricQuantizer (quint8, range 0 to 127). However, if you are using an x86 backend, the default quantizer for activations in PyTorch uses 7-bit quantization (range 0 to 127) instead of 8-bit quantization (range 0 to 255). This is recommended to avoid any overflow issues during computation. Refer to the [documentation](https://pytorch.org/docs/stable/quantization.html#quantization-aware-training) for more details.\n",
    "\n",
    "\n",
    "\n"
   ]
  },
  {
   "cell_type": "code",
   "execution_count": null,
   "metadata": {},
   "outputs": [],
   "source": [
    "my_config = torch.ao.quantization.default_qconfig\n",
    "# my_config = torch.quantization.QConfig(activation=torch.quantization.default_observer,\n",
    "                                    #    weight=torch.quantization.default_weight_observer)\n",
    "net_quantized.qconfig = my_config\n",
    "print(net_quantized.qconfig)\n",
    "net_quantized = torch.ao.quantization.prepare(net_quantized) # Insert observers\n",
    "net_quantized"
   ]
  },
  {
   "cell_type": "markdown",
   "metadata": {},
   "source": [
    "## Calibrate the model using the test set"
   ]
  },
  {
   "cell_type": "code",
   "execution_count": null,
   "metadata": {},
   "outputs": [],
   "source": [
    "test(net_quantized)"
   ]
  },
  {
   "cell_type": "code",
   "execution_count": null,
   "metadata": {},
   "outputs": [],
   "source": [
    "print(f'Check statistics of the various layers')\n",
    "net_quantized"
   ]
  },
  {
   "cell_type": "markdown",
   "metadata": {},
   "source": [
    "## Quantize the model using the statistics collected"
   ]
  },
  {
   "cell_type": "code",
   "execution_count": 113,
   "metadata": {},
   "outputs": [],
   "source": [
    "net_quantized = torch.ao.quantization.convert(net_quantized)"
   ]
  },
  {
   "cell_type": "code",
   "execution_count": null,
   "metadata": {},
   "outputs": [],
   "source": [
    "print(f'Check statistics of the various layers')\n",
    "net_quantized"
   ]
  },
  {
   "cell_type": "markdown",
   "metadata": {},
   "source": [
    "## Print weights of the model after quantization"
   ]
  },
  {
   "cell_type": "markdown",
   "metadata": {},
   "source": [
    "Note that the weights are now quantized to 8-bit integers, but the bias values remain in floating-point format. This is because PyTorch does not quantize bias values by default. Instead, they are quantized during inference as 32-bit integers (int32)."
   ]
  },
  {
   "cell_type": "code",
   "execution_count": null,
   "metadata": {},
   "outputs": [],
   "source": [
    "# Print the weights matrix of the model after quantization\n",
    "print('Weights after quantization')\n",
    "print(net_quantized.linear1.weight().int_repr())  # Access the quantized weights\n",
    "print(net_quantized.linear1.bias())  # Access the quantized bias\n"
   ]
  },
  {
   "cell_type": "markdown",
   "metadata": {},
   "source": [
    "## Perform custom quantization on linear layer 1"
   ]
  },
  {
   "cell_type": "markdown",
   "metadata": {},
   "source": [
    "Using the function quantize_params and quantize tensor, we will quantize the weights, activations and bias of linear layer 1. Then we will perform the matrix multiplication and addition operation using the quantized values to get the quantized output tensor. The values obtained are then compared with the quantized values obtained using the PyTorch's quantization functions.\n",
    "\n",
    "The equations used for quantization are as follows (the pictures are taken from the slides provided by Umar Jamil):\n"
   ]
  },
  {
   "attachments": {
    "image.png": {
     "image/png": "[encoded data removed]"
    }
   },
   "cell_type": "markdown",
   "metadata": {},
   "source": [
    "Symmetric quantization:\n",
    "\n",
    "![image.png](attachment:image.png)\n",
    "\n",
    "\n",
    "$$ alpha = max(|min_{tensor}|, |max_{tensor}|) $$\n",
    "$$ beta = -alpha $$\n",
    "$$ qmax = 2^{bitwidth - 1} - 1 $$\n",
    "$$ qmin = -qmax $$\n",
    "$$ scale = \\frac{alpha-beta}{qmax-qmin} $$\n",
    "$$ zero_{point} = 0 $$\n",
    "$$ quantized\\_tensor = round(\\frac{tensor}{scale}) $$\n",
    "$$ quantized\\_tensor = clip(quantized\\_tensor, qmin, qmax) $$\n",
    "$$ dequantized\\_tensor = quantized\\_tensor \\times scale $$\n"
   ]
  },
  {
   "attachments": {
    "image.png": {
     "image/png": "[encoded data removed]"
    }
   },
   "cell_type": "markdown",
   "metadata": {},
   "source": [
    "Asymmetric quantization:\n",
    "\n",
    "![image.png](attachment:image.png)\n",
    "\n",
    "$$ alpha = max_{tensor} $$\n",
    "$$ beta = min_{tensor} $$\n",
    "$$ qmax = 2^{bitwidth} - 1 $$\n",
    "$$ qmin = 0 $$\n",
    "$$ scale = \\frac{alpha-beta}{qmax-qmin} $$\n",
    "$$ zero_{point} = round(qmin - \\frac{beta}{scale}) $$\n",
    "$$ quantized\\_tensor = round(\\frac{tensor}{scale} + zero_{point}) $$\n",
    "$$ quantized\\_tensor = clamp(quantized\\_tensor, qmin, qmax) $$\n",
    "$$ dequantized\\_tensor = (quantized\\_tensor - zero_{point}) \\times scale $$\n",
    "\n"
   ]
  },
  {
   "attachments": {
    "image.png": {
     "image/png": "[encoded data removed]"
    }
   },
   "cell_type": "markdown",
   "metadata": {},
   "source": [
    "Note that by default, PyTorch uses symmetric quantization for weights and asymmetric quantization (affine quantization) for activations.\n",
    "\n",
    "Activation quantization is asymmetric because activation values are typically non-negative, hence the quantized range does not need to include negative values. Using symmetric quantization for activations can lead to poor quantization resolution, as the clipping range would include values that never appear in the input, reducing precision. This issue is illustrated in the image below.\n",
    "\n",
    "![image.png](attachment:image.png)\n"
   ]
  },
  {
   "cell_type": "code",
   "execution_count": 116,
   "metadata": {},
   "outputs": [],
   "source": [
    "# Function to find the scale and zero point for quantization\n",
    "def quantize_params(symmetric: bool = True, num_bits: int = 8,layer: nn.Module = None,  min_val: float = None, max_val: float = None):    \n",
    "    if min_val is None:\n",
    "        min_val = torch.min(layer.weight).item()\n",
    "    if max_val is None:\n",
    "        max_val = torch.max(layer.weight).item()\n",
    "    if symmetric:\n",
    "        # Find the maximum absolute value\n",
    "        max_val = max(abs(min_val), abs(max_val))\n",
    "        min_val = -max_val\n",
    "        qmin = -(2 ** (num_bits - 1)-1)\n",
    "        qmax = 2 ** (num_bits - 1) - 1\n",
    "        scale = (max_val - min_val) / (qmax - qmin)\n",
    "        zero_point = 0\n",
    "    else:\n",
    "        qmin = 0\n",
    "        qmax = (2 ** num_bits) - 1\n",
    "        scale = (max_val - min_val) / (qmax - qmin)\n",
    "        zero_point = round(qmin - min_val / scale)\n",
    "    \n",
    "    return scale, zero_point, qmax, qmin\n",
    "\n",
    "# Quantize the tensors(weights,bias or activations)\n",
    "def quantize_tensor(x: torch.Tensor, scale: float, zero_point: int, qmax: int, qmin: int):\n",
    "    x = torch.round(x / scale + zero_point).clamp(qmin, qmax)\n",
    "    return x"
   ]
  },
  {
   "cell_type": "code",
   "execution_count": null,
   "metadata": {},
   "outputs": [],
   "source": [
    "# Scale and zero point for the weights obtained using linear1 layer of unquantized model\n",
    "w_scale, w_zero_point,w_qmax, w_qmin = quantize_params(symmetric=True, num_bits=8, layer=net.linear1,min_val=None, max_val=None)\n",
    "print('Scale:', w_scale)\n",
    "print('Zero point:', w_zero_point)\n",
    "\n",
    "# Quantize the weights of the linear1 layer\n",
    "qw = quantize_tensor(net.linear1.weight, w_scale, w_zero_point, w_qmax, w_qmin)\n",
    "print('Quantized weight:', qw)"
   ]
  },
  {
   "cell_type": "code",
   "execution_count": null,
   "metadata": {},
   "outputs": [],
   "source": [
    "# loop through the test_loader and find the min and max values\n",
    "min_val = 10000\n",
    "max_val = -10000\n",
    "for data in tqdm(test_loader, desc='Finding min/max values'):\n",
    "    x, y = data\n",
    "    x = x.to(device)\n",
    "    min_val = min(min_val, torch.min(x).item())\n",
    "    max_val = max(max_val, torch.max(x).item())\n",
    "\n",
    "print('Min value:', min_val)\n",
    "print('Max value:', max_val)\n",
    "\n",
    "# Scale and zero point for the input tensor (activation) \n",
    "x_scale, x_zero_point, x_qmax, x_qmin = quantize_params(symmetric=False, num_bits=7, layer=None, min_val=min_val, max_val=max_val)\n",
    "\n",
    "# Quantize the input tensor\n",
    "qx = quantize_tensor(test_sample_img.view(-1, 28*28), x_scale, x_zero_point, x_qmax, x_qmin)\n",
    "print('Quantized input:', qx)"
   ]
  },
  {
   "cell_type": "markdown",
   "metadata": {},
   "source": [
    "As discussed earlier, PyTorch does not quantize bias values by default. Instead, they are quantized during inference as 32-bit integers (int32). This approach is necessary because the product of two 8-bit integers (weights and activations) can exceed the range of an 8-bit integer and hence it is stored in a 32-bit accumulator. Since the bias values are added to this intermediate accumulator, int32 is used as the default data type for bias quantization.\n",
    "\n",
    "Per equation (11) in the [paper](https://arxiv.org/abs/1712.05877), the quantized scale  and zero-point values for the bias are as follows:\n",
    "\n",
    "$$ scale_{bias} = scale_{weight} \\times scale_{activation} $$\n",
    "$$ zero_{point_{bias}} = 0 $$"
   ]
  },
  {
   "cell_type": "code",
   "execution_count": null,
   "metadata": {},
   "outputs": [],
   "source": [
    "bias = net.linear1.bias\n",
    "bias_scale = w_scale * x_scale\n",
    "qbias = torch.round(bias / bias_scale)\n",
    "print('Quantized bias:', qbias)"
   ]
  },
  {
   "cell_type": "code",
   "execution_count": null,
   "metadata": {},
   "outputs": [],
   "source": [
    "# find the scale and zero point for the output, loop through the test data , pass it through the linear1 layer of the unquantized model and find the min and max values\n",
    "min_val = 100000\n",
    "max_val = -100000\n",
    "for data in tqdm(test_loader, desc='Finding min/max values'):\n",
    "    x, y = data\n",
    "    x = x.to(device)\n",
    "    output = net.linear1(x.view(-1, 784))\n",
    "    min_val = min(min_val, torch.min(output).item())\n",
    "    max_val = max(max_val, torch.max(output).item())\n",
    "\n",
    "print('Min value:', min_val)\n",
    "print('Max value:', max_val)\n",
    "\n",
    "# Scale and zero point for the output tensor\n",
    "output_scale, output_zero_point, output_qmax, output_qmin = quantize_params(symmetric=False, num_bits=7, layer=None, min_val=min_val, max_val=max_val)\n",
    "print('Output scale:', output_scale)\n",
    "print('Output zero point:', output_zero_point)\n",
    "    "
   ]
  },
  {
   "cell_type": "markdown",
   "metadata": {},
   "source": [
    "The following cell mimics the calculation of quantized output of a linear layer using the quantized weights, activations and bias values. The output is then compared with the output obtained using PyTorch's quantization functions.\n",
    "\n",
    "I have tried here to explain the calculation of quantized output of a linear layer using the quantized weights, activations and bias values. Refer to equations (2), (3) and (4) in the [paper](https://arxiv.org/abs/1712.05877) for more details.\n",
    "\n",
    "We know that the calculation of the output of a linear layer is given by:\n",
    "\n",
    "$$\n",
    "y = Wx + b\n",
    "$$\n",
    "\n",
    "Where:\n",
    "- \\( W \\) is the weight matrix,\n",
    "- \\( x \\) is the input tensor (activation),\n",
    "- \\( b \\) is the bias tensor,\n",
    "- \\( y \\) is the output tensor.\n",
    "\n",
    "The matrix multiplication between \\( W \\) and \\( x \\) is done by accumulating the sum of the product of each element of \\( W \\) and \\( x \\). Then the bias tensor is added to the output tensor. By definition of matrix multiplication, the \\( i \\)-th element of the output tensor is given by:\n",
    "\n",
    "$$\n",
    "r_Y[0][i] = \\sum_{j=0}^{N-1} r_X[0][j] \\cdot r_W[i, j] + r_{bias}[i]\n",
    "$$\n",
    "\n",
    "Where:\n",
    "- \\( N \\) is the number of dimensions in the input tensor (for example, 784 for the MNIST dataset when flattened),\n",
    "- \\( r_Y[0][i] \\) is the real-valued output of matrix multiplication at the \\( i \\)-th neuron of the output layer (there are 100 neurons in the first linear layer of our model),\n",
    "- \\( r_X[0][j] \\) is the real-valued input (activation) at the \\( j \\)-th dimension of the input layer,\n",
    "- \\( r_W[i, j] \\) is the real-valued weight at the \\( i \\)-th neuron corresponding to the \\( j \\)-th dimension of the input layer.\n",
    "- \\( r_{bias}[i] \\) is the real-valued bias at the \\( i \\)-th neuron of the output layer.\n",
    "\n",
    "\n",
    "Now, we know real-valued (floating point) values of tensor can be obtained back from the quantized values using the following equation:\n",
    "$$ r = S \\cdot (q - z) $$\n",
    "\n",
    "Where:\n",
    "- \\( r \\) is the real-valued tensor (floating point),\n",
    "- \\( q \\) is the quantized tensor (integer),\n",
    "- \\( z \\) is the zero point of the quantized tensor,\n",
    "- \\( S \\) is the scale of the quantized tensor.\n",
    "\n",
    "Substituting the real-valued values in terms of quantized values, the equation changes to:\n",
    "\n",
    "$$\n",
    "S_Y \\cdot (q_Y[0][i] - z_Y) = \\sum_{j=0}^{N-1} S_X \\cdot (q_X[0][j] - z_X) \\cdot S_W \\cdot (q_W[i, j] - z_W) + S_{bias} \\cdot (q_{bias}[i] - z_{bias})\n",
    "$$\n",
    "\n",
    "Here:\n",
    "- \\( S_Y \\), \\( S_X \\), \\( S_W \\), and \\( S_bias \\) are the scales for the output, input, weights, and bias respectively. Note that $S_{bias} = S_{X} \\times S_{W}.$\n",
    "- \\( z_Y \\), \\( z_X \\), \\( z_W \\), and \\( z_bias \\) are the zero points for the output, input, weights, and bias respectively.\n",
    "\n",
    "\n",
    "Rearranging the terms, we get:\n",
    "\n",
    "$$\n",
    "q_Y[0][i] = z_Y + M (\\sum_{j=0}^{N-1} (q_X[0][j] - z_X) \\cdot (q_W[i, j] - z_W) + (q_{bias}[i] - z_{bias}))\n",
    "$$\n",
    "\n",
    "Where:\n",
    "\n",
    "$$\n",
    "M = \\frac{S_X \\cdot S_W}{S_Y}\n",
    "$$\n",
    "\n",
    "\n",
    "\n",
    "\n"
   ]
  },
  {
   "cell_type": "code",
   "execution_count": null,
   "metadata": {},
   "outputs": [],
   "source": [
    "# Initialize output tensor with int32\n",
    "qoutput = torch.zeros(qx.shape[0], qw.shape[0], dtype=torch.int32)\n",
    "print(qx.shape)\n",
    "print(qw.shape)\n",
    "print(qoutput.shape)\n",
    "\n",
    "for i in range(qw.shape[0]):  # for each output neuron\n",
    "    acc = 0\n",
    "    for j in range(qx.shape[1]):\n",
    "        acc += (qx[0, j].item() - x_zero_point) * (qw[i, j].item() - w_zero_point)\n",
    "    # Add bias for this neuron\n",
    "    qoutput[0, i] = acc + qbias[i]\n",
    "\n",
    "# Apply scaling factors and quantization\n",
    "qoutput = torch.round(qoutput * x_scale * w_scale / output_scale) + output_zero_point \n",
    "qoutput = torch.clamp(qoutput, 0, 127) # Clamp to 7 bit quantization range since I am using a x86 backend\n",
    "print(qoutput)"
   ]
  },
  {
   "cell_type": "code",
   "execution_count": null,
   "metadata": {},
   "outputs": [],
   "source": [
    "# verfiy the  scale and zero point values obtained using pytorch and custom quantization\n",
    "w_scale_pytorch = net_quantized.linear1.weight().q_scale()\n",
    "w_zero_point_pytorch = net_quantized.linear1.weight().q_zero_point()\n",
    "\n",
    "x_scale_pytorch = net_quantized.quant.scale.item()\n",
    "x_zero_point_pytorch = net_quantized.quant.zero_point.item()\n",
    "\n",
    "output_scale_pytorch = net_quantized.linear1.scale\n",
    "output_zero_point_pytorch = net_quantized.linear1.zero_point\n",
    "\n",
    "print(f'weight scale based on pytorch: {w_scale_pytorch} and weight zero point based on pytorch: {w_zero_point_pytorch}')\n",
    "print(f'weight scale based on custom quantization: {w_scale} and weight zero point based on custom quantization: {w_zero_point}')\n",
    "\n",
    "print(f'input scale based on pytorch: {x_scale_pytorch} and input zero point based on pytorch: {x_zero_point_pytorch}')\n",
    "print(f'input scale based on custom quantization: {x_scale} and input zero point based on custom quantization: {x_zero_point}')\n",
    "\n",
    "print(f'output scale based on pytorch: {output_scale_pytorch} and output zero point based on pytorch: {output_zero_point_pytorch}')\n",
    "print(f'output scale based on custom quantization: {output_scale} and output zero point based on custom quantization: {output_zero_point}')\n"
   ]
  },
  {
   "cell_type": "code",
   "execution_count": null,
   "metadata": {},
   "outputs": [],
   "source": [
    "# verify the quantized output obtained using pytorch and custom quantization\n",
    "qx = net_quantized.quant(test_sample_img.view(-1, 784))\n",
    "print(qx.shape)\n",
    "output_pytorch = net_quantized.linear1(qx).int_repr()\n",
    "print('Output based on pytorch quantization:', output_pytorch)\n",
    "print('Output based on custom quantization:', qoutput)"
   ]
  },
  {
   "cell_type": "markdown",
   "metadata": {},
   "source": [
    "## Compare the dequantized weights and the original weights"
   ]
  },
  {
   "cell_type": "code",
   "execution_count": null,
   "metadata": {},
   "outputs": [],
   "source": [
    "print('Original weights: ')\n",
    "print(net.linear1.weight)\n",
    "print('')\n",
    "print(f'Dequantized weights: ')\n",
    "print(torch.dequantize(net_quantized.linear1.weight()))\n",
    "print('')"
   ]
  },
  {
   "cell_type": "markdown",
   "metadata": {},
   "source": [
    "## Print size and accuracy of the quantized model"
   ]
  },
  {
   "cell_type": "code",
   "execution_count": null,
   "metadata": {},
   "outputs": [],
   "source": [
    "print('Size of the model after quantization')\n",
    "print_size_of_model(net_quantized)"
   ]
  },
  {
   "cell_type": "code",
   "execution_count": null,
   "metadata": {},
   "outputs": [],
   "source": [
    "print('Testing the model after quantization')\n",
    "test(net_quantized)"
   ]
  },
  {
   "cell_type": "markdown",
   "metadata": {},
   "source": [
    "# Static Quantization with Layer Fusion\n",
    "\n",
    "Consider the following steps:\n",
    "$$ y = Wx + b $$\n",
    "$$ y = relu(y) $$\n",
    "\n",
    "So while performing these operations Pytorch first calculate y = Wx + b and then apply relu on y. But in layer fusion, we combine these two operations into a single operation. This reduces the number of operations and hence the computation time. The combined operation is given by y = relu(Wx + b).\n",
    "\n",
    "Fusing the layers before quantization can improve the performance of the quantized model. PyTorch provides a utility function called fuse_modules to fuse the layers. The function takes a list of layers to fuse and returns a new model with the specified layers fused. We can use this function to fuse any combination of layers in the model (e.g., linear and relu, conv and batchnorm, etc.)."
   ]
  },
  {
   "cell_type": "code",
   "execution_count": 127,
   "metadata": {},
   "outputs": [],
   "source": [
    "class FusedQuantizedVerySimpleNet(nn.Module):\n",
    "    def __init__(self, hidden_size_1=100, hidden_size_2=100):\n",
    "        super(FusedQuantizedVerySimpleNet,self).__init__()\n",
    "        self.quant = torch.quantization.QuantStub()\n",
    "        self.linear1 = nn.Linear(28*28, hidden_size_1) \n",
    "        self.linear2 = nn.Linear(hidden_size_1, hidden_size_2) \n",
    "        self.linear3 = nn.Linear(hidden_size_2, 10)\n",
    "        self.relu1 = nn.ReLU()\n",
    "        self.relu2 = nn.ReLU()\n",
    "        self.dequant = torch.quantization.DeQuantStub()\n",
    "\n",
    "    def forward(self, img):\n",
    "        x = img.view(-1, 28*28)\n",
    "        x = self.quant(x)\n",
    "        x = self.relu1(self.linear1(x))\n",
    "        x = self.relu2(self.linear2(x))\n",
    "        x = self.linear3(x)\n",
    "        x = self.dequant(x)\n",
    "        return x"
   ]
  },
  {
   "cell_type": "code",
   "execution_count": null,
   "metadata": {},
   "outputs": [],
   "source": [
    "# Create a new model\n",
    "fused_net_quantized = FusedQuantizedVerySimpleNet().to(device)\n",
    "# Copy weights from unquantized model\n",
    "fused_net_quantized.load_state_dict(net.state_dict())\n",
    "fused_net_quantized.eval()\n",
    "\n",
    "# set the qconfig\n",
    "fused_net_quantized.qconfig = torch.quantization.default_qconfig\n",
    "\n",
    "# fuse the linear and relu layers\n",
    "torch.ao.quantization.fuse_modules(fused_net_quantized, [['linear1', 'relu1'], ['linear2', 'relu2']], inplace=True)\n",
    "\n",
    "# prepare the model for quantization\n",
    "fused_net_quantized = torch.ao.quantization.prepare(fused_net_quantized)\n",
    "fused_net_quantized\n"
   ]
  },
  {
   "cell_type": "markdown",
   "metadata": {},
   "source": [
    "## Calibrate the model using the test set"
   ]
  },
  {
   "cell_type": "code",
   "execution_count": null,
   "metadata": {},
   "outputs": [],
   "source": [
    "test(fused_net_quantized)\n",
    "print(f'Check statistics of the various layers')\n",
    "fused_net_quantized"
   ]
  },
  {
   "cell_type": "markdown",
   "metadata": {},
   "source": [
    "## Quantize the model using the statistics collected"
   ]
  },
  {
   "cell_type": "code",
   "execution_count": 130,
   "metadata": {},
   "outputs": [],
   "source": [
    "fused_net_quantized = torch.ao.quantization.convert(fused_net_quantized)\n"
   ]
  },
  {
   "cell_type": "code",
   "execution_count": null,
   "metadata": {},
   "outputs": [],
   "source": [
    "print(f'Check statistics of the various layers')\n",
    "fused_net_quantized"
   ]
  },
  {
   "cell_type": "markdown",
   "metadata": {},
   "source": [
    "## Print weights of the model after quantization"
   ]
  },
  {
   "cell_type": "code",
   "execution_count": null,
   "metadata": {},
   "outputs": [],
   "source": [
    "print('Weights after quantization')\n",
    "print(fused_net_quantized.linear1.weight().int_repr())  # Access the quantized weights\n",
    "print(fused_net_quantized.linear1.bias())  # Access the quantized bias"
   ]
  },
  {
   "cell_type": "markdown",
   "metadata": {},
   "source": [
    "## Perform custom quantization on linear layer 1"
   ]
  },
  {
   "cell_type": "code",
   "execution_count": null,
   "metadata": {},
   "outputs": [],
   "source": [
    "w_scale, w_zero_point,w_qmax, w_qmin = quantize_params(symmetric=True, num_bits=8, layer=net.linear1,min_val=None, max_val=None)\n",
    "print('Scale:', w_scale)\n",
    "print('Zero point:', w_zero_point)\n",
    "\n",
    "qw = quantize_tensor(net.linear1.weight, w_scale, w_zero_point, w_qmax, w_qmin)\n",
    "print('Quantized weight:', qw)\n",
    "\n",
    "# loop through the test_loader and find the min and max values\n",
    "min_val = 10000\n",
    "max_val = -10000\n",
    "for data in tqdm(test_loader, desc='Finding min/max values'):\n",
    "    x, y = data\n",
    "    x = x.to(device)\n",
    "    min_val = min(min_val, torch.min(x).item())\n",
    "    max_val = max(max_val, torch.max(x).item())\n",
    "\n",
    "print('Min value:', min_val)\n",
    "print('Max value:', max_val)\n",
    "\n",
    "x_scale, x_zero_point, x_qmax, x_qmin = quantize_params(symmetric=False, num_bits=7, layer=None, min_val=min_val, max_val=max_val)\n",
    "qx = quantize_tensor(test_sample_img.view(-1, 28*28), x_scale, x_zero_point, x_qmax, x_qmin)\n",
    "print('Quantized input:', qx)\n",
    "\n",
    "bias = net.linear1.bias\n",
    "qbias = torch.round(bias / (w_scale * x_scale))\n",
    "print('Quantized bias:', qbias)\n",
    "\n",
    "# find the scale and zero point for the output, loop through the test data and find the min and max values\n",
    "min_val = 100000\n",
    "max_val = -100000\n",
    "for data in tqdm(test_loader, desc='Finding min/max values'):\n",
    "    x, y = data\n",
    "    x = x.to(device)\n",
    "    output = net.linear1(x.view(-1, 784))\n",
    "    output = net.relu(output)\n",
    "    min_val = min(min_val, torch.min(output).item())\n",
    "    max_val = max(max_val, torch.max(output).item())\n",
    "\n",
    "print('Min value:', min_val)\n",
    "print('Max value:', max_val)\n",
    "\n",
    "output_scale, output_zero_point, output_qmax, output_qmin = quantize_params(symmetric=False, num_bits=7, layer=None, min_val=min_val, max_val=max_val)\n",
    "print('Output scale:', output_scale)\n",
    "print('Output zero point:', output_zero_point)\n",
    "\n",
    "\n",
    "# Initialize output tensor with int32\n",
    "qoutput = torch.zeros(qx.shape[0], qw.shape[0], dtype=torch.int32)\n",
    "\n",
    "for i in range(qw.shape[0]):  # for each output neuron\n",
    "    acc = 0\n",
    "    for j in range(qx.shape[1]):\n",
    "        acc += (qx[0, j].item() - x_zero_point) * (qw[i, j].item() - w_zero_point)\n",
    "    # Add bias for this neuron\n",
    "    qoutput[0, i] = acc + qbias[i]\n",
    "\n",
    "# Apply scaling factors and quantization\n",
    "qoutput = torch.round(qoutput * x_scale * w_scale / output_scale) + output_zero_point\n",
    "qoutput = torch.clamp(qoutput, 0, 127) # Clamp to uint8 range\n",
    "print(qoutput)\n"
   ]
  },
  {
   "cell_type": "code",
   "execution_count": null,
   "metadata": {},
   "outputs": [],
   "source": [
    "# verfiy the scale and zero point values obtained using pytorch and custom quantization\n",
    "w_scale_pytorch = fused_net_quantized.linear1.weight().q_scale()\n",
    "w_zero_point_pytorch = fused_net_quantized.linear1.weight().q_zero_point()\n",
    "\n",
    "x_scale_pytorch = fused_net_quantized.quant.scale.item()\n",
    "x_zero_point_pytorch = fused_net_quantized.quant.zero_point.item()\n",
    "\n",
    "output_scale_pytorch = fused_net_quantized.linear1.scale\n",
    "output_zero_point_pytorch = fused_net_quantized.linear1.zero_point\n",
    "\n",
    "print(f'weight scale based on pytorch: {w_scale_pytorch} and weight zero point based on pytorch: {w_zero_point_pytorch}')\n",
    "print(f'weight scale based on custom quantization: {w_scale} and weight zero point based on custom quantization: {w_zero_point}')\n",
    "\n",
    "print(f'input scale based on pytorch: {x_scale_pytorch} and input zero point based on pytorch: {x_zero_point_pytorch}')\n",
    "print(f'input scale based on custom quantization: {x_scale} and input zero point based on custom quantization: {x_zero_point}')\n",
    "\n",
    "print(f'output scale based on pytorch: {output_scale_pytorch} and output zero point based on pytorch: {output_zero_point_pytorch}')\n",
    "print(f'output scale based on custom quantization: {output_scale} and output zero point based on custom quantization: {output_zero_point}')"
   ]
  },
  {
   "cell_type": "code",
   "execution_count": null,
   "metadata": {},
   "outputs": [],
   "source": [
    "# verify the quantized output obtained using pytorch and custom quantization\n",
    "qx = fused_net_quantized.quant(test_sample_img.view(-1, 784))\n",
    "output_pytorch = fused_net_quantized.linear1(qx).int_repr()\n",
    "\n",
    "print('Output based on pytorch quantization:', output_pytorch)\n",
    "print('Output based on custom quantization:', qoutput)"
   ]
  },
  {
   "cell_type": "markdown",
   "metadata": {},
   "source": [
    "# Dynamic Quantization\n",
    "\n",
    "As discussed earlier, dynamic quantization quantizes the model weights before inference, while the activations are quantized dynamically during inference based on the statistics of the activations. Dynamic quantization is primarily used when the data distribution of the input varies significantly across different batches, and hence static quantization observers might fail to accurately capture the distribution. This is common in tasks such as Natural Language Processing (NLP), audio processing, etc. Therefore, dynamic quantization is recommended for such tasks.\n",
    "\n",
    "For example, when dealing with RNN models or transformers, dynamic quantization is typically preferred over static quantization because the data distribution in these models can vary across batches. On the other hand, when dealing with images or computer vision tasks, static quantization is often preferred, as we have a better understanding of the data distribution (e.g., pixel values in the range of 0 to 255 for most images in RGB format).\n",
    "\n",
    "PyTorch provides a utility function called torch.quantization.quantize_dynamic to perform dynamic quantization on a model. The function takes the model and a list of layers to quantize and returns a quantized model.  You can find more details in the [PyTorch documentation](https://pytorch.org/docs/stable/quantization.html#dynamic-quantization). "
   ]
  },
  {
   "cell_type": "code",
   "execution_count": 136,
   "metadata": {},
   "outputs": [],
   "source": [
    "class VerySimpleNet(nn.Module):\n",
    "    def __init__(self, hidden_size_1=100, hidden_size_2=100):\n",
    "        super(VerySimpleNet,self).__init__()\n",
    "        self.linear1 = nn.Linear(28*28, hidden_size_1) \n",
    "        self.linear2 = nn.Linear(hidden_size_1, hidden_size_2) \n",
    "        self.linear3 = nn.Linear(hidden_size_2, 10)\n",
    "        self.relu1 = nn.ReLU()\n",
    "        self.relu2 = nn.ReLU()\n",
    "\n",
    "    def forward(self, img):\n",
    "        x = img.view(-1, 28*28)\n",
    "        x = self.relu1(self.linear1(x))\n",
    "        x = self.relu2(self.linear2(x))\n",
    "        x = self.linear3(x)\n",
    "        return x"
   ]
  },
  {
   "cell_type": "code",
   "execution_count": null,
   "metadata": {},
   "outputs": [],
   "source": [
    "net = VerySimpleNet().to(device)\n",
    "net.load_state_dict(torch.load(MODEL_FILENAME))\n",
    "net"
   ]
  },
  {
   "cell_type": "code",
   "execution_count": 138,
   "metadata": {},
   "outputs": [],
   "source": [
    "# Dynamic quantization\n",
    "net_quantized_dynamic = torch.quantization.quantize_dynamic(net, {nn.Linear}, dtype=torch.qint8)"
   ]
  },
  {
   "cell_type": "code",
   "execution_count": null,
   "metadata": {},
   "outputs": [],
   "source": [
    "print(f'Check statistics of the various layers')\n",
    "net_quantized_dynamic"
   ]
  },
  {
   "cell_type": "code",
   "execution_count": null,
   "metadata": {},
   "outputs": [],
   "source": [
    "# Print the weights matrix of the model after quantization\n",
    "print('Weights after quantization')\n",
    "print(net_quantized_dynamic.linear1.weight().int_repr())  # Access the quantized weights"
   ]
  },
  {
   "cell_type": "code",
   "execution_count": null,
   "metadata": {},
   "outputs": [],
   "source": [
    "print('Original weights: ')\n",
    "print(net.linear1.weight)\n",
    "print('')\n",
    "print(f'Dequantized weights: ')\n",
    "print(torch.dequantize(net_quantized_dynamic.linear1.weight()))\n",
    "print('')"
   ]
  },
  {
   "cell_type": "code",
   "execution_count": null,
   "metadata": {},
   "outputs": [],
   "source": [
    "print('Size of the model after quantization')\n",
    "print_size_of_model(net_quantized_dynamic)"
   ]
  },
  {
   "cell_type": "code",
   "execution_count": null,
   "metadata": {},
   "outputs": [],
   "source": [
    "print('Testing the model after quantization')\n",
    "test(net_quantized_dynamic)"
   ]
  }
 ],
 "metadata": {
  "kernelspec": {
   "display_name": "Python 3",
   "language": "python",
   "name": "python3"
  },
  "language_info": {
   "codemirror_mode": {
    "name": "ipython",
    "version": 3
   },
   "file_extension": ".py",
   "mimetype": "text/x-python",
   "name": "python",
   "nbconvert_exporter": "python",
   "pygments_lexer": "ipython3",
   "version": "3.8.10"
  }
 },
 "nbformat": 4,
 "nbformat_minor": 2
}
